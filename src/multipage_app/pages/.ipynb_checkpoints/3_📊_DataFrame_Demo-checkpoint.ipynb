{
 "cells": [
  {
   "cell_type": "code",
   "execution_count": null,
   "id": "0cefe1d1",
   "metadata": {},
   "outputs": [],
   "source": [
    "import streamlit as st\n",
    "import pandas as pd\n",
    "import altair as alt\n",
    "from urllib.error import URLError\n",
    "\n",
    "st.set_page_config(page_title=\"DataFrame Demo\", page_icon=\"📊\")\n",
    "\n",
    "st.markdown(\"# DataFrame Demo\")\n",
    "st.sidebar.header(\"DataFrame Demo\")\n",
    "st.write(\n",
    "    \"\"\"This demo shows how to use `st.write` to visualize Pandas DataFrames.\n",
    "(Data courtesy of the [UN Data Explorer](http://data.un.org/Explorer.aspx).)\"\"\"\n",
    ")\n",
    "\n",
    "\n",
    "@st.cache_data\n",
    "def get_UN_data():\n",
    "    AWS_BUCKET_URL = \"http://streamlit-demo-data.s3-us-west-2.amazonaws.com\"\n",
    "    df = pd.read_csv(AWS_BUCKET_URL + \"/agri.csv.gz\")\n",
    "    return df.set_index(\"Region\")\n",
    "\n",
    "\n",
    "try:\n",
    "    df = get_UN_data()\n",
    "    countries = st.multiselect(\n",
    "        \"Choose countries\", list(df.index), [\"China\", \"United States of America\"]\n",
    "    )\n",
    "    if not countries:\n",
    "        st.error(\"Please select at least one country.\")\n",
    "    else:\n",
    "        data = df.loc[countries]\n",
    "        data /= 1000000.0\n",
    "        st.write(\"### Gross Agricultural Production ($B)\", data.sort_index())\n",
    "\n",
    "        data = data.T.reset_index()\n",
    "        data = pd.melt(data, id_vars=[\"index\"]).rename(\n",
    "            columns={\"index\": \"year\", \"value\": \"Gross Agricultural Product ($B)\"}\n",
    "        )\n",
    "        chart = (\n",
    "            alt.Chart(data)\n",
    "            .mark_area(opacity=0.3)\n",
    "            .encode(\n",
    "                x=\"year:T\",\n",
    "                y=alt.Y(\"Gross Agricultural Product ($B):Q\", stack=None),\n",
    "                color=\"Region:N\",\n",
    "            )\n",
    "        )\n",
    "        st.altair_chart(chart, use_container_width=True)\n",
    "except URLError as e:\n",
    "    st.error(\n",
    "        \"\"\"\n",
    "        **This demo requires internet access.**\n",
    "        Connection error: %s\n",
    "    \"\"\"\n",
    "        % e.reason\n",
    "    )"
   ]
  }
 ],
 "metadata": {
  "jupytext": {
   "formats": "ipynb,auto:light"
  },
  "kernelspec": {
   "display_name": "Python 3 (ipykernel)",
   "language": "python",
   "name": "python3"
  },
  "language_info": {
   "codemirror_mode": {
    "name": "ipython",
    "version": 3
   },
   "file_extension": ".py",
   "mimetype": "text/x-python",
   "name": "python",
   "nbconvert_exporter": "python",
   "pygments_lexer": "ipython3",
   "version": "3.11.5"
  }
 },
 "nbformat": 4,
 "nbformat_minor": 5
}

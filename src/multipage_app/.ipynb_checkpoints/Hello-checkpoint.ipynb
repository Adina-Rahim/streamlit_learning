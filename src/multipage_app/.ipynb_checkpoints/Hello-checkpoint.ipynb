{
 "cells": [
  {
   "cell_type": "code",
   "execution_count": null,
   "id": "d4e68800",
   "metadata": {},
   "outputs": [],
   "source": [
    "import streamlit as st\n",
    "\n",
    "st.set_page_config(\n",
    "    page_title=\"Hello\",\n",
    "    page_icon=\"👋\",\n",
    ")\n",
    "\n",
    "st.write(\"# Welcome to Streamlit! 👋\")\n",
    "\n",
    "st.sidebar.success(\"Select a demo above.\")\n",
    "\n",
    "st.markdown(\n",
    "    \"\"\"\n",
    "    Streamlit is an open-source app framework built specifically for\n",
    "    Machine Learning and Data Science projects.\n",
    "    **👈 Select a demo from the sidebar** to see some examples\n",
    "    of what Streamlit can do!\n",
    "    ### Want to learn more?\n",
    "    - Check out [streamlit.io](https://streamlit.io)\n",
    "    - Jump into our [documentation](https://docs.streamlit.io)\n",
    "    - Ask a question in our [community\n",
    "        forums](https://discuss.streamlit.io)\n",
    "    ### See more complex demos\n",
    "    - Use a neural net to [analyze the Udacity Self-driving Car Image\n",
    "        Dataset](https://github.com/streamlit/demo-self-driving)\n",
    "    - Explore a [New York City rideshare dataset](https://github.com/streamlit/demo-uber-nyc-pickups)\n",
    "\"\"\"\n",
    ")"
   ]
  }
 ],
 "metadata": {
  "jupytext": {
   "formats": "ipynb,auto:light"
  },
  "kernelspec": {
   "display_name": "Python 3 (ipykernel)",
   "language": "python",
   "name": "python3"
  },
  "language_info": {
   "codemirror_mode": {
    "name": "ipython",
    "version": 3
   },
   "file_extension": ".py",
   "mimetype": "text/x-python",
   "name": "python",
   "nbconvert_exporter": "python",
   "pygments_lexer": "ipython3",
   "version": "3.11.5"
  }
 },
 "nbformat": 4,
 "nbformat_minor": 5
}

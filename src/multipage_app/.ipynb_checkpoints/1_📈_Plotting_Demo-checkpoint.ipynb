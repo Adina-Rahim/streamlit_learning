{
 "cells": [
  {
   "cell_type": "code",
   "execution_count": null,
   "id": "d8947bb5",
   "metadata": {},
   "outputs": [],
   "source": [
    "import streamlit as st\n",
    "import time\n",
    "import numpy as np\n",
    "\n",
    "st.set_page_config(page_title=\"Plotting Demo\", page_icon=\"📈\")\n",
    "\n",
    "st.markdown(\"# Plotting Demo\")\n",
    "st.sidebar.header(\"Plotting Demo\")\n",
    "st.write(\n",
    "    \"\"\"This demo illustrates a combination of plotting and animation with\n",
    "Streamlit. We're generating a bunch of random numbers in a loop for around\n",
    "5 seconds. Enjoy!\"\"\"\n",
    ")\n",
    "\n",
    "progress_bar = st.sidebar.progress(0)\n",
    "status_text = st.sidebar.empty()\n",
    "last_rows = np.random.randn(1, 1)\n",
    "chart = st.line_chart(last_rows)\n",
    "\n",
    "for i in range(1, 101):\n",
    "    new_rows = last_rows[-1, :] + np.random.randn(5, 1).cumsum(axis=0)\n",
    "    status_text.text(\"%i%% Complete\" % i)\n",
    "    chart.add_rows(new_rows)\n",
    "    progress_bar.progress(i)\n",
    "    last_rows = new_rows\n",
    "    time.sleep(0.05)\n",
    "\n",
    "progress_bar.empty()\n",
    "\n",
    "# Streamlit widgets automatically run the script from top to bottom. Since\n",
    "# this button is not connected to any other logic, it just causes a plain\n",
    "# rerun.\n",
    "st.button(\"Re-run\")"
   ]
  }
 ],
 "metadata": {
  "kernelspec": {
   "display_name": "Python 3 (ipykernel)",
   "language": "python",
   "name": "python3"
  },
  "language_info": {
   "codemirror_mode": {
    "name": "ipython",
    "version": 3
   },
   "file_extension": ".py",
   "mimetype": "text/x-python",
   "name": "python",
   "nbconvert_exporter": "python",
   "pygments_lexer": "ipython3",
   "version": "3.11.5"
  }
 },
 "nbformat": 4,
 "nbformat_minor": 5
}

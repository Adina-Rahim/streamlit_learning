{
 "cells": [
  {
   "cell_type": "code",
   "execution_count": 5,
   "id": "71b7dabe",
   "metadata": {
    "lines_to_next_cell": 0
   },
   "outputs": [],
   "source": [
    "import numpy as np\n",
    "import pandas as pd\n",
    "import streamlit as st\n",
    "#from pandas_profiling import ProfileReport\n",
    "from ydata_profiling import ProfileReport\n",
    "from streamlit_pandas_profiling import st_profile_report"
   ]
  },
  {
   "cell_type": "code",
   "execution_count": 6,
   "id": "7184ea89",
   "metadata": {
    "lines_to_next_cell": 0
   },
   "outputs": [
    {
     "name": "stderr",
     "output_type": "stream",
     "text": [
      "2023-11-30 16:13:28.137 \n",
      "  \u001b[33m\u001b[1mWarning:\u001b[0m to view this Streamlit app on a browser, run it with the following\n",
      "  command:\n",
      "\n",
      "    streamlit run C:\\Users\\g05296ar\\AppData\\Local\\anaconda3\\Lib\\site-packages\\ipykernel_launcher.py [ARGUMENTS]\n"
     ]
    }
   ],
   "source": [
    "# Web App Title\n",
    "st.markdown('''\n",
    "# **Exploratory Data Analysis**\n",
    "\n",
    "This is the **EDA App** created in Streamlit using the **pandas-profiling** library.\n",
    "\n",
    "---\n",
    "''')\n",
    "\n",
    "# Upload CSV data\n",
    "with st.sidebar.header('1. Upload your CSV data'):\n",
    "    uploaded_file = st.sidebar.file_uploader(\"Upload your input CSV file\", type=[\"csv\"])\n",
    "    st.sidebar.markdown(\"\"\"\n",
    "[Example CSV input file](https://raw.githubusercontent.com/dataprofessor/data/master/delaney_solubility_with_descriptors.csv)\n",
    "\"\"\")\n",
    "\n",
    "# Pandas Profiling Report\n",
    "if uploaded_file is not None:\n",
    "    #@st.cache_data\n",
    "    def load_csv():\n",
    "        csv = pd.read_csv(uploaded_file)\n",
    "        return csv\n",
    "    df = load_csv()\n",
    "    pr = ProfileReport(df, explorative=True)\n",
    "    st.header('**Input DataFrame**')\n",
    "    st.write(df)\n",
    "    st.write('---')\n",
    "    st.header('**Pandas Profiling Report**')\n",
    "    st_profile_report(pr)\n",
    "else:\n",
    "    st.info('Awaiting for CSV file to be uploaded.')\n",
    "    if st.button('Press to use Example Dataset'):\n",
    "        # Example data\n",
    "        @st.cache_data\n",
    "        def load_data():\n",
    "            a = pd.DataFrame(\n",
    "                np.random.rand(100, 5),\n",
    "                columns=['a', 'b', 'c', 'd', 'e']\n",
    "            )\n",
    "            return a\n",
    "        df = load_data()\n",
    "        pr = ProfileReport(df, explorative=True)\n",
    "        st.header('**Input DataFrame**')\n",
    "        st.write(df)\n",
    "        st.write('---')\n",
    "        st.header('**Pandas Profiling Report**')\n",
    "        st_profile_report(pr)"
   ]
  },
  {
   "cell_type": "markdown",
   "id": "17c5e85a",
   "metadata": {},
   "source": [
    "**Credit:** App built in `Python` + `Streamlit` by [Chanin Nantasenamat](https://medium.com/@chanin.nantasenamat) (aka [Data Professor](http://youtube.com/dataprofessor))\n"
   ]
  }
 ],
 "metadata": {
  "jupytext": {
   "formats": "ipynb,py:light"
  },
  "kernelspec": {
   "display_name": "Python 3 (ipykernel)",
   "language": "python",
   "name": "python3"
  },
  "language_info": {
   "codemirror_mode": {
    "name": "ipython",
    "version": 3
   },
   "file_extension": ".py",
   "mimetype": "text/x-python",
   "name": "python",
   "nbconvert_exporter": "python",
   "pygments_lexer": "ipython3",
   "version": "3.11.5"
  }
 },
 "nbformat": 4,
 "nbformat_minor": 5
}

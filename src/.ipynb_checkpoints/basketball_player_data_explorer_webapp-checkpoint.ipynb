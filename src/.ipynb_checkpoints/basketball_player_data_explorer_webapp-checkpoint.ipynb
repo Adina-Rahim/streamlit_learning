{
 "cells": [
  {
   "cell_type": "code",
   "execution_count": 1,
   "id": "b27eeae1",
   "metadata": {},
   "outputs": [],
   "source": [
    "import streamlit as st\n",
    "import pandas as pd\n",
    "import base64\n",
    "import matplotlib.pyplot as plt\n",
    "import seaborn as sns\n",
    "import numpy as np"
   ]
  },
  {
   "cell_type": "code",
   "execution_count": 2,
   "id": "496a6acb",
   "metadata": {},
   "outputs": [
    {
     "name": "stderr",
     "output_type": "stream",
     "text": [
      "2023-12-01 15:17:55.182 \n",
      "  \u001b[33m\u001b[1mWarning:\u001b[0m to view this Streamlit app on a browser, run it with the following\n",
      "  command:\n",
      "\n",
      "    streamlit run C:\\Users\\g05296ar\\AppData\\Local\\anaconda3\\Lib\\site-packages\\ipykernel_launcher.py [ARGUMENTS]\n",
      "2023-12-01 15:17:56.598 Serialization of dataframe to Arrow table was unsuccessful due to: (\"Expected bytes, got a 'int' object\", 'Conversion failed for column FG% with type object'). Applying automatic fixes for column types to make the dataframe Arrow-compatible.\n"
     ]
    }
   ],
   "source": [
    "import streamlit as st\n",
    "import pandas as pd\n",
    "import base64\n",
    "import matplotlib.pyplot as plt\n",
    "import seaborn as sns\n",
    "import numpy as np\n",
    "\n",
    "st.title('NBA Player Stats Explorer')\n",
    "\n",
    "st.markdown(\"\"\"\n",
    "This app performs simple webscraping of NBA player stats data!\n",
    "* **Python libraries:** base64, pandas, streamlit\n",
    "* **Data source:** [Basketball-reference.com](https://www.basketball-reference.com/).\n",
    "\"\"\")\n",
    "\n",
    "st.sidebar.header('User Input Features')\n",
    "selected_year = st.sidebar.selectbox('Year', list(reversed(range(1950,2020))))\n",
    "\n",
    "# Web scraping of NBA player stats\n",
    "\n",
    "def load_data(year):\n",
    "    url = \"https://www.basketball-reference.com/leagues/NBA_\" + str(year) + \"_per_game.html\"\n",
    "    html = pd.read_html(url, header = 0)\n",
    "    df = html[0]\n",
    "    raw = df.drop(df[df.Age == 'Age'].index) # Deletes repeating headers in content\n",
    "    raw = raw.fillna(0)\n",
    "    playerstats = raw.drop(['Rk'], axis=1)\n",
    "    return playerstats\n",
    "playerstats = load_data(selected_year)\n",
    "\n",
    "# Sidebar - Team selection\n",
    "sorted_unique_team = sorted(playerstats.Tm.unique())\n",
    "selected_team = st.sidebar.multiselect('Team', sorted_unique_team, sorted_unique_team)\n",
    "\n",
    "# Sidebar - Position selection\n",
    "unique_pos = ['C','PF','SF','PG','SG']\n",
    "selected_pos = st.sidebar.multiselect('Position', unique_pos, unique_pos)\n",
    "\n",
    "# Filtering data\n",
    "df_selected_team = playerstats[(playerstats.Tm.isin(selected_team)) & (playerstats.Pos.isin(selected_pos))]\n",
    "\n",
    "st.header('Display Player Stats of Selected Team(s)')\n",
    "st.write('Data Dimension: ' + str(df_selected_team.shape[0]) + ' rows and ' + str(df_selected_team.shape[1]) + ' columns.')\n",
    "st.dataframe(df_selected_team)\n",
    "\n",
    "# Download NBA player stats data\n",
    "# https://discuss.streamlit.io/t/how-to-download-file-in-streamlit/1806\n",
    "import base64\n",
    "\n",
    "def filedownload(df):\n",
    "    csv = df.to_csv(index=False, encoding='utf-8')  # Ensure using UTF-8 encoding\n",
    "    b64 = base64.b64encode(csv.encode('utf-8')).decode()  # Encode with UTF-8\n",
    "    href = f'<a href=\"data:file/csv;base64,{b64}\" download=\"playerstats.csv\">Download CSV File</a>'\n",
    "    return href\n",
    "\n",
    "\n",
    "st.markdown(filedownload(df_selected_team), unsafe_allow_html=True)\n",
    "\n",
    "# Heatmap\n",
    "if st.button('Intercorrelation Heatmap'):\n",
    "    st.header('Intercorrelation Matrix Heatmap')\n",
    "    # drop categorical colums\n",
    "    df_selected_team.drop('Player', axis=1, inplace=True)\n",
    "    df_selected_team.drop('FG%', axis=1, inplace=True)\n",
    "    df_selected_team.drop('Pos', axis=1, inplace=True)\n",
    "    df_selected_team.drop('Tm', axis=1, inplace=True)\n",
    "    st.set_option('deprecation.showPyplotGlobalUse', False)\n",
    "\n",
    "    df_selected_team.to_csv('../data/output.csv',index=False)\n",
    "    df = pd.read_csv('../data/output.csv')\n",
    "\n",
    "    corr = df.corr()\n",
    "    mask = np.zeros_like(corr)\n",
    "    mask[np.triu_indices_from(mask)] = True\n",
    "    with sns.axes_style(\"white\"):\n",
    "        f, ax = plt.subplots(figsize=(7, 5))\n",
    "        ax = sns.heatmap(corr, mask=mask, vmax=1, square=True)\n",
    "    st.pyplot()"
   ]
  }
 ],
 "metadata": {
  "jupytext": {
   "formats": "ipynb,py:light"
  },
  "kernelspec": {
   "display_name": "Python 3 (ipykernel)",
   "language": "python",
   "name": "python3"
  },
  "language_info": {
   "codemirror_mode": {
    "name": "ipython",
    "version": 3
   },
   "file_extension": ".py",
   "mimetype": "text/x-python",
   "name": "python",
   "nbconvert_exporter": "python",
   "pygments_lexer": "ipython3",
   "version": "3.11.5"
  }
 },
 "nbformat": 4,
 "nbformat_minor": 5
}
